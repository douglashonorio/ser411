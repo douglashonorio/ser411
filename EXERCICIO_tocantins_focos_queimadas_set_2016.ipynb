{
 "cells": [
  {
   "cell_type": "markdown",
   "metadata": {
    "slideshow": {
     "slide_type": "slide"
    }
   },
   "source": [
    "\n",
    "<font size=\"6\" face=\"Calibri\"><h1 style=\"color:green\">\n",
    "Focos de Tocantins em 2016<font size=\"1\" face=\"Times\"><h1 style=\"color:black\">\n",
    "elaborado por: ... Douglas Damião de Carvalho Honório ...<hr style=\"border:2px solid #0077b9;\">"
   ]
  },
  {
   "cell_type": "code",
   "execution_count": 1,
   "metadata": {
    "slideshow": {
     "slide_type": "fragment"
    }
   },
   "outputs": [],
   "source": [
    "# encoding: utf-8"
   ]
  },
  {
   "cell_type": "markdown",
   "metadata": {
    "slideshow": {
     "slide_type": "fragment"
    }
   },
   "source": [
    "Para que o notebook IPython coloque as figuras geradas pela matplotlib inline:"
   ]
  },
  {
   "cell_type": "code",
   "execution_count": 2,
   "metadata": {
    "slideshow": {
     "slide_type": "fragment"
    }
   },
   "outputs": [],
   "source": [
    "%matplotlib inline"
   ]
  },
  {
   "cell_type": "markdown",
   "metadata": {
    "slideshow": {
     "slide_type": "fragment"
    }
   },
   "source": [
    "Bibliotecas"
   ]
  },
  {
   "cell_type": "code",
   "execution_count": 3,
   "metadata": {},
   "outputs": [],
   "source": [
    "import pandas as pd\n",
    "import geopandas as gpd\n",
    "import matplotlib.pyplot as plt\n"
   ]
  },
  {
   "cell_type": "markdown",
   "metadata": {
    "slideshow": {
     "slide_type": "subslide"
    }
   },
   "source": [
    "<font size=\"3\" face=\"Times\"><h1 style=\"color:black\">Abrindo o arquivo Shape"
   ]
  },
  {
   "cell_type": "code",
   "execution_count": 4,
   "metadata": {
    "slideshow": {
     "slide_type": "fragment"
    }
   },
   "outputs": [],
   "source": [
    "focos = gpd.read_file(r\"C:\\Users\\dougl\\Desktop\\programacao\\focos_2016\\focos_2016.shp\")"
   ]
  },
  {
   "cell_type": "code",
   "execution_count": 5,
   "metadata": {
    "slideshow": {
     "slide_type": "fragment"
    }
   },
   "outputs": [],
   "source": [
    "focos[\"timestamp\"] = pd.to_datetime(focos[\"DataHora\"])"
   ]
  },
  {
   "cell_type": "code",
   "execution_count": 6,
   "metadata": {
    "slideshow": {
     "slide_type": "fragment"
    }
   },
   "outputs": [],
   "source": [
    "focos_tocantins = focos[focos.Estado == 'Tocantins']"
   ]
  },
  {
   "cell_type": "code",
   "execution_count": 7,
   "metadata": {
    "slideshow": {
     "slide_type": "fragment"
    }
   },
   "outputs": [
    {
     "name": "stderr",
     "output_type": "stream",
     "text": [
      "C:\\ProgramData\\Anaconda2\\lib\\site-packages\\geopandas\\geodataframe.py:398: UserWarning: Boolean Series key will be reindexed to match DataFrame index.\n",
      "  result = super(GeoDataFrame, self).__getitem__(key)\n"
     ]
    }
   ],
   "source": [
    "focos_setembro = focos_tocantins[focos.timestamp.dt.month == 9]"
   ]
  },
  {
   "cell_type": "markdown",
   "metadata": {},
   "source": [
    "<font size=\"3\" face=\"Times\"><h1 style=\"color:black\">Testando o arquivo Shape"
   ]
  },
  {
   "cell_type": "code",
   "execution_count": 8,
   "metadata": {
    "slideshow": {
     "slide_type": "fragment"
    }
   },
   "outputs": [
    {
     "data": {
      "text/html": [
       "<div>\n",
       "<style scoped>\n",
       "    .dataframe tbody tr th:only-of-type {\n",
       "        vertical-align: middle;\n",
       "    }\n",
       "\n",
       "    .dataframe tbody tr th {\n",
       "        vertical-align: top;\n",
       "    }\n",
       "\n",
       "    .dataframe thead th {\n",
       "        text-align: right;\n",
       "    }\n",
       "</style>\n",
       "<table border=\"1\" class=\"dataframe\">\n",
       "  <thead>\n",
       "    <tr style=\"text-align: right;\">\n",
       "      <th></th>\n",
       "      <th>DataHora</th>\n",
       "      <th>Satelite</th>\n",
       "      <th>Pais</th>\n",
       "      <th>Estado</th>\n",
       "      <th>Municipi</th>\n",
       "      <th>Bioma</th>\n",
       "      <th>DiaSemCh</th>\n",
       "      <th>Precipit</th>\n",
       "      <th>RiscoFog</th>\n",
       "      <th>Latitude</th>\n",
       "      <th>Longitud</th>\n",
       "      <th>AreaIndu</th>\n",
       "      <th>FRP</th>\n",
       "      <th>geometry</th>\n",
       "      <th>timestamp</th>\n",
       "    </tr>\n",
       "  </thead>\n",
       "  <tbody>\n",
       "    <tr>\n",
       "      <th>84977</th>\n",
       "      <td>2016/09/01 16:04:38</td>\n",
       "      <td>AQUA_M-T</td>\n",
       "      <td>Brasil</td>\n",
       "      <td>Tocantins</td>\n",
       "      <td>Goiatins</td>\n",
       "      <td>Cerrado</td>\n",
       "      <td>40</td>\n",
       "      <td>0.3</td>\n",
       "      <td>1.0</td>\n",
       "      <td>-8.048</td>\n",
       "      <td>-47.666</td>\n",
       "      <td>None</td>\n",
       "      <td>None</td>\n",
       "      <td>POINT (-47.666 -8.048)</td>\n",
       "      <td>2016-09-01 16:04:38</td>\n",
       "    </tr>\n",
       "    <tr>\n",
       "      <th>84996</th>\n",
       "      <td>2016/09/01 16:04:38</td>\n",
       "      <td>AQUA_M-T</td>\n",
       "      <td>Brasil</td>\n",
       "      <td>Tocantins</td>\n",
       "      <td>Goiatins</td>\n",
       "      <td>Cerrado</td>\n",
       "      <td>40</td>\n",
       "      <td>0.3</td>\n",
       "      <td>1.0</td>\n",
       "      <td>-8.047</td>\n",
       "      <td>-47.670</td>\n",
       "      <td>None</td>\n",
       "      <td>None</td>\n",
       "      <td>POINT (-47.67 -8.047000000000001)</td>\n",
       "      <td>2016-09-01 16:04:38</td>\n",
       "    </tr>\n",
       "    <tr>\n",
       "      <th>85000</th>\n",
       "      <td>2016/09/01 16:04:38</td>\n",
       "      <td>AQUA_M-T</td>\n",
       "      <td>Brasil</td>\n",
       "      <td>Tocantins</td>\n",
       "      <td>Almas</td>\n",
       "      <td>Cerrado</td>\n",
       "      <td>1</td>\n",
       "      <td>4.0</td>\n",
       "      <td>1.0</td>\n",
       "      <td>-11.907</td>\n",
       "      <td>-47.397</td>\n",
       "      <td>None</td>\n",
       "      <td>None</td>\n",
       "      <td>POINT (-47.397 -11.907)</td>\n",
       "      <td>2016-09-01 16:04:38</td>\n",
       "    </tr>\n",
       "    <tr>\n",
       "      <th>85007</th>\n",
       "      <td>2016/09/01 16:04:38</td>\n",
       "      <td>AQUA_M-T</td>\n",
       "      <td>Brasil</td>\n",
       "      <td>Tocantins</td>\n",
       "      <td>Mateiros</td>\n",
       "      <td>Cerrado</td>\n",
       "      <td>4</td>\n",
       "      <td>0.6</td>\n",
       "      <td>1.0</td>\n",
       "      <td>-10.845</td>\n",
       "      <td>-46.636</td>\n",
       "      <td>None</td>\n",
       "      <td>None</td>\n",
       "      <td>POINT (-46.636 -10.845)</td>\n",
       "      <td>2016-09-01 16:04:38</td>\n",
       "    </tr>\n",
       "  </tbody>\n",
       "</table>\n",
       "</div>"
      ],
      "text/plain": [
       "                  DataHora  Satelite    Pais     Estado  Municipi    Bioma  \\\n",
       "84977  2016/09/01 16:04:38  AQUA_M-T  Brasil  Tocantins  Goiatins  Cerrado   \n",
       "84996  2016/09/01 16:04:38  AQUA_M-T  Brasil  Tocantins  Goiatins  Cerrado   \n",
       "85000  2016/09/01 16:04:38  AQUA_M-T  Brasil  Tocantins     Almas  Cerrado   \n",
       "85007  2016/09/01 16:04:38  AQUA_M-T  Brasil  Tocantins  Mateiros  Cerrado   \n",
       "\n",
       "       DiaSemCh  Precipit  RiscoFog  Latitude  Longitud AreaIndu   FRP  \\\n",
       "84977        40       0.3       1.0    -8.048   -47.666     None  None   \n",
       "84996        40       0.3       1.0    -8.047   -47.670     None  None   \n",
       "85000         1       4.0       1.0   -11.907   -47.397     None  None   \n",
       "85007         4       0.6       1.0   -10.845   -46.636     None  None   \n",
       "\n",
       "                                geometry           timestamp  \n",
       "84977             POINT (-47.666 -8.048) 2016-09-01 16:04:38  \n",
       "84996  POINT (-47.67 -8.047000000000001) 2016-09-01 16:04:38  \n",
       "85000            POINT (-47.397 -11.907) 2016-09-01 16:04:38  \n",
       "85007            POINT (-46.636 -10.845) 2016-09-01 16:04:38  "
      ]
     },
     "execution_count": 8,
     "metadata": {},
     "output_type": "execute_result"
    }
   ],
   "source": [
    "focos_setembro.head(4)"
   ]
  },
  {
   "cell_type": "markdown",
   "metadata": {},
   "source": [
    "<font size=\"3\" face=\"Times\"><h1 style=\"color:black\">Importando o Shapefile de municípios do IBGE:"
   ]
  },
  {
   "cell_type": "code",
   "execution_count": 9,
   "metadata": {},
   "outputs": [],
   "source": [
    "municipios = gpd.read_file(r\"C:\\Users\\dougl\\Desktop\\programacao\\focos_2016\\municipios\\municipios.shp\")"
   ]
  },
  {
   "cell_type": "code",
   "execution_count": 10,
   "metadata": {},
   "outputs": [],
   "source": [
    "#17 é o código IBGE para o Estado de Tocantins\n",
    "municipios_to = municipios[municipios[\"GEOCODIGO\"].str[0:2] == \"17\"]"
   ]
  },
  {
   "cell_type": "code",
   "execution_count": null,
   "metadata": {},
   "outputs": [],
   "source": [
    "focos_setembro.crs = {'init': 'epsg:4674'}\n",
    "municipios_to.crs = {'init': 'epsg:4674'}"
   ]
  },
  {
   "cell_type": "markdown",
   "metadata": {},
   "source": [
    "<font size=\"3\" face=\"Times\"><h1 style=\"color:black\">Juntando os dados em um mesmo grupo: "
   ]
  },
  {
   "cell_type": "code",
   "execution_count": null,
   "metadata": {},
   "outputs": [],
   "source": [
    "tocantins_dados = gpd.sjoin(focos_setembro, municipios_to, how=\"right\", op='intersects')"
   ]
  },
  {
   "cell_type": "code",
   "execution_count": null,
   "metadata": {},
   "outputs": [],
   "source": [
    "tocantins_dados.head(4)"
   ]
  },
  {
   "cell_type": "code",
   "execution_count": null,
   "metadata": {},
   "outputs": [],
   "source": [
    "municipios_tocantins = municipios_to.set_index('NOME')"
   ]
  },
  {
   "cell_type": "code",
   "execution_count": null,
   "metadata": {},
   "outputs": [],
   "source": [
    "focos_mes = tocantins_dados.groupby('NOME').Municipi.count()"
   ]
  },
  {
   "cell_type": "code",
   "execution_count": null,
   "metadata": {},
   "outputs": [],
   "source": [
    "focos_mes.index.name = \"Municipios\"\n",
    "focos_mes.name = \"focos\"\n",
    "focos_mes.head()"
   ]
  },
  {
   "cell_type": "markdown",
   "metadata": {},
   "source": [
    "<font size=\"3\" face=\"Times\"><h1 style=\"color:black\">Agrupando os municípios e os focos:"
   ]
  },
  {
   "cell_type": "code",
   "execution_count": null,
   "metadata": {},
   "outputs": [],
   "source": [
    "focos_municipios = pd.concat([municipios_tocantins, focos_mes], axis=1)\n",
    "focos_municipios.head()"
   ]
  },
  {
   "cell_type": "code",
   "execution_count": null,
   "metadata": {},
   "outputs": [],
   "source": [
    "<font size=\"3\" face=\"Times\"><h1 style=\"color:black\">Plotando o grafico"
   ]
  },
  {
   "cell_type": "code",
   "execution_count": null,
   "metadata": {
    "scrolled": true
   },
   "outputs": [],
   "source": [
    "fig, ax = plt.subplots(1, figsize=(10, 15))\n",
    "focos_municipios.plot(column='focos', ax=ax, cmap='Paired')\n",
    "municipios_tocantins.plot(color='None', edgecolor='black', linewidth=1, ax=ax)\n",
    "ax.axis('off')\n",
    "vmin = focos_municipios['focos'].min()\n",
    "vmax = focos_municipios['focos'].max()\n",
    "\n",
    "# criando barra de cores\n",
    "barra = plt.cm.ScalarMappable(cmap='Paired', norm=plt.Normalize(vmin=vmin, vmax=vmax))\n",
    "barra._A = []\n",
    "cbar = fig.colorbar(barra)\n"
   ]
  },
  {
   "cell_type": "markdown",
   "metadata": {},
   "source": [
    "<font size=\"3\" face=\"Times\"><h1 style=\"color:black\">Referencia:\n",
    "<font size=\"2\" face=\"Times\"><h1 style=\"color:blue\"> http://www.geraintianpalmer.org.uk/2017/09/22/plotting-geopandas/"
   ]
  }
 ],
 "metadata": {
  "celltoolbar": "Raw Cell Format",
  "kernelspec": {
   "display_name": "Python [default]",
   "language": "python",
   "name": "python2"
  },
  "language_info": {
   "codemirror_mode": {
    "name": "ipython",
    "version": 2
   },
   "file_extension": ".py",
   "mimetype": "text/x-python",
   "name": "python",
   "nbconvert_exporter": "python",
   "pygments_lexer": "ipython2",
   "version": "2.7.13"
  }
 },
 "nbformat": 4,
 "nbformat_minor": 2
}
